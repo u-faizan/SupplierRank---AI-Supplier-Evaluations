{
 "cells": [
  {
   "cell_type": "markdown",
   "id": "cc7015a2",
   "metadata": {},
   "source": [
    "# 🏭 Supplier Evaluation & Clustering\n",
    "This notebook trains a clustering model to evaluate suppliers based on their procurement KPIs.  \n",
    "We will:\n",
    "1. Load and clean the dataset.\n",
    "2. Aggregate KPIs per supplier.\n",
    "3. Scale data.\n",
    "4. Find the optimal number of clusters (`k`).\n",
    "5. Train the final clustering model.\n",
    "6. Compute a composite supplier score.\n",
    "7. Save the model and results for future use.\n",
    "\n",
    "---\n"
   ]
  },
  {
   "cell_type": "code",
   "execution_count": 11,
   "id": "8b7592cf",
   "metadata": {},
   "outputs": [],
   "source": [
    "# --- Imports ---\n",
    "import pandas as pd\n",
    "import numpy as np\n",
    "from sklearn.preprocessing import MinMaxScaler\n",
    "from sklearn.cluster import KMeans\n",
    "from sklearn.metrics import silhouette_score, davies_bouldin_score\n",
    "import joblib\n",
    "from pathlib import Path\n"
   ]
  },
  {
   "cell_type": "markdown",
   "id": "843ce4a5",
   "metadata": {},
   "source": [
    "## ⚙️ Step 1: Configuration\n",
    "Here we define key parameters, including:\n",
    "- Input Excel file and sheet name.\n",
    "- Output directory to save model and results.\n",
    "- Random state for reproducibility.\n"
   ]
  },
  {
   "cell_type": "code",
   "execution_count": 12,
   "id": "f7e09834",
   "metadata": {},
   "outputs": [],
   "source": [
    "# --- CONFIG ---\n",
    "INPUT_FILE = \"Procurement KPI Analysis Dataset 1.xlsx\"\n",
    "SHEET_NAME = \"Procurement KPI Analysis Datase\"\n",
    "OUTPUT_DIR = Path(\"supplier_evaluation_output\")\n",
    "OUTPUT_DIR.mkdir(parents=True, exist_ok=True)\n",
    "\n",
    "RANDOM_STATE = 42\n"
   ]
  },
  {
   "cell_type": "markdown",
   "id": "9073409b",
   "metadata": {},
   "source": [
    "## 📂 Step 2: Load Data & Define Search Range\n",
    "1) Load the procurement dataset and determine the number of unique suppliers.\n",
    "2) Then, set K_SEARCH_RANGE from 2 up to the total number of suppliers.\n"
   ]
  },
  {
   "cell_type": "code",
   "execution_count": 13,
   "id": "432d2432",
   "metadata": {},
   "outputs": [
    {
     "data": {
      "text/html": [
       "<div>\n",
       "<style scoped>\n",
       "    .dataframe tbody tr th:only-of-type {\n",
       "        vertical-align: middle;\n",
       "    }\n",
       "\n",
       "    .dataframe tbody tr th {\n",
       "        vertical-align: top;\n",
       "    }\n",
       "\n",
       "    .dataframe thead th {\n",
       "        text-align: right;\n",
       "    }\n",
       "</style>\n",
       "<table border=\"1\" class=\"dataframe\">\n",
       "  <thead>\n",
       "    <tr style=\"text-align: right;\">\n",
       "      <th></th>\n",
       "      <th>PO_ID</th>\n",
       "      <th>Supplier</th>\n",
       "      <th>Order_Date</th>\n",
       "      <th>Delivery_Date</th>\n",
       "      <th>Item_Category</th>\n",
       "      <th>Order_Status</th>\n",
       "      <th>Quantity</th>\n",
       "      <th>Unit_Price</th>\n",
       "      <th>Negotiated_Price</th>\n",
       "      <th>Compliance</th>\n",
       "    </tr>\n",
       "  </thead>\n",
       "  <tbody>\n",
       "    <tr>\n",
       "      <th>0</th>\n",
       "      <td>PO-00001</td>\n",
       "      <td>Alpha_Inc</td>\n",
       "      <td>2023-10-17</td>\n",
       "      <td>2023-10-25</td>\n",
       "      <td>Protein</td>\n",
       "      <td>Cancelled</td>\n",
       "      <td>1176</td>\n",
       "      <td>20.13</td>\n",
       "      <td>17.81</td>\n",
       "      <td>Yes</td>\n",
       "    </tr>\n",
       "    <tr>\n",
       "      <th>1</th>\n",
       "      <td>PO-00002</td>\n",
       "      <td>Delta_Logistics</td>\n",
       "      <td>2022-04-25</td>\n",
       "      <td>2022-05-05</td>\n",
       "      <td>Vitamin</td>\n",
       "      <td>Delivered</td>\n",
       "      <td>1509</td>\n",
       "      <td>39.32</td>\n",
       "      <td>37.34</td>\n",
       "      <td>Yes</td>\n",
       "    </tr>\n",
       "    <tr>\n",
       "      <th>2</th>\n",
       "      <td>PO-00003</td>\n",
       "      <td>Gamma_Co</td>\n",
       "      <td>2022-01-26</td>\n",
       "      <td>2022-02-15</td>\n",
       "      <td>Omega</td>\n",
       "      <td>Delivered</td>\n",
       "      <td>910</td>\n",
       "      <td>95.51</td>\n",
       "      <td>92.26</td>\n",
       "      <td>Yes</td>\n",
       "    </tr>\n",
       "    <tr>\n",
       "      <th>3</th>\n",
       "      <td>PO-00004</td>\n",
       "      <td>Beta_Supplies</td>\n",
       "      <td>2022-10-09</td>\n",
       "      <td>2022-10-28</td>\n",
       "      <td>Vitamin</td>\n",
       "      <td>Delivered</td>\n",
       "      <td>1344</td>\n",
       "      <td>99.85</td>\n",
       "      <td>95.52</td>\n",
       "      <td>Yes</td>\n",
       "    </tr>\n",
       "    <tr>\n",
       "      <th>4</th>\n",
       "      <td>PO-00005</td>\n",
       "      <td>Delta_Logistics</td>\n",
       "      <td>2022-09-08</td>\n",
       "      <td>2022-09-20</td>\n",
       "      <td>Performance</td>\n",
       "      <td>Delivered</td>\n",
       "      <td>1180</td>\n",
       "      <td>64.07</td>\n",
       "      <td>60.53</td>\n",
       "      <td>No</td>\n",
       "    </tr>\n",
       "  </tbody>\n",
       "</table>\n",
       "</div>"
      ],
      "text/plain": [
       "      PO_ID         Supplier Order_Date Delivery_Date Item_Category  \\\n",
       "0  PO-00001        Alpha_Inc 2023-10-17    2023-10-25       Protein   \n",
       "1  PO-00002  Delta_Logistics 2022-04-25    2022-05-05       Vitamin   \n",
       "2  PO-00003         Gamma_Co 2022-01-26    2022-02-15         Omega   \n",
       "3  PO-00004    Beta_Supplies 2022-10-09    2022-10-28       Vitamin   \n",
       "4  PO-00005  Delta_Logistics 2022-09-08    2022-09-20   Performance   \n",
       "\n",
       "  Order_Status  Quantity  Unit_Price  Negotiated_Price Compliance  \n",
       "0    Cancelled      1176       20.13             17.81        Yes  \n",
       "1    Delivered      1509       39.32             37.34        Yes  \n",
       "2    Delivered       910       95.51             92.26        Yes  \n",
       "3    Delivered      1344       99.85             95.52        Yes  \n",
       "4    Delivered      1180       64.07             60.53         No  "
      ]
     },
     "execution_count": 13,
     "metadata": {},
     "output_type": "execute_result"
    }
   ],
   "source": [
    "# --- Load Data ---\n",
    "df = pd.read_excel(\"Procurement KPI Analysis Dataset 1.xlsx\", sheet_name=\"Procurement KPI Analysis Datase\")\n",
    "df.head()\n"
   ]
  },
  {
   "cell_type": "code",
   "execution_count": 14,
   "id": "69cc0e2a",
   "metadata": {},
   "outputs": [
    {
     "data": {
      "text/plain": [
       "5"
      ]
     },
     "execution_count": 14,
     "metadata": {},
     "output_type": "execute_result"
    }
   ],
   "source": [
    "# --- Determine dynamic search range for clusters ---\n",
    "n_suppliers = df[\"Supplier\"].nunique()\n",
    "n_suppliers"
   ]
  },
  {
   "cell_type": "code",
   "execution_count": 15,
   "id": "7e47a029",
   "metadata": {},
   "outputs": [],
   "source": [
    "# k must be between 2 and (n_suppliers - 1)\n",
    "# max(3, n_suppliers) ensures there are at least 2 valid cluster options.\n",
    "K_SEARCH_RANGE = range(2, max(3, n_suppliers))  #(2,3,...,n_suppliers-1)"
   ]
  },
  {
   "cell_type": "markdown",
   "id": "b1e20bbc",
   "metadata": {},
   "source": [
    "## 📊 Step 3: Aggregate KPIs per Supplier\n",
    "We group by `Supplier` and calculate:\n",
    "- **Compliance Rate:** % of orders marked as \"Yes\" in the Compliance column.  \n",
    "- **Delivery Rate:** Average of `OnTimeDelivery` values.  \n",
    "- **Average Price Efficiency:** Mean `UnitPrice`.  \n",
    "- **Quantity Share:** Total quantity of each supplier divided by total quantity overall.  \n",
    "- **Total Orders & Total Quantity** for additional reference.\n"
   ]
  },
  {
   "cell_type": "code",
   "execution_count": 16,
   "id": "9f3c60fd",
   "metadata": {},
   "outputs": [],
   "source": [
    "# --- Aggregate per supplier ---\n",
    "agg = df.groupby(\"Supplier\").agg(\n",
    "    compliance_rate=(\"Compliance\", lambda x: (x == \"Yes\").mean()),\n",
    "    delivery_rate=(\"Order_Status\", lambda x: (x == \"Delivered\").mean()),\n",
    "    avg_price_efficiency=(\"Unit_Price\", \"mean\"),   # Unit price used as proxy\n",
    "    quantity_share=(\"Quantity\", \"sum\"),\n",
    "    total_orders=(\"PO_ID\", \"count\"),\n",
    "    total_quantity=(\"Quantity\", \"sum\")\n",
    ").reset_index()"
   ]
  },
  {
   "cell_type": "code",
   "execution_count": 17,
   "id": "167e1dad",
   "metadata": {},
   "outputs": [
    {
     "data": {
      "text/html": [
       "<div>\n",
       "<style scoped>\n",
       "    .dataframe tbody tr th:only-of-type {\n",
       "        vertical-align: middle;\n",
       "    }\n",
       "\n",
       "    .dataframe tbody tr th {\n",
       "        vertical-align: top;\n",
       "    }\n",
       "\n",
       "    .dataframe thead th {\n",
       "        text-align: right;\n",
       "    }\n",
       "</style>\n",
       "<table border=\"1\" class=\"dataframe\">\n",
       "  <thead>\n",
       "    <tr style=\"text-align: right;\">\n",
       "      <th></th>\n",
       "      <th>Supplier</th>\n",
       "      <th>compliance_rate</th>\n",
       "      <th>delivery_rate</th>\n",
       "      <th>avg_price_efficiency</th>\n",
       "      <th>quantity_share</th>\n",
       "      <th>total_orders</th>\n",
       "      <th>total_quantity</th>\n",
       "    </tr>\n",
       "  </thead>\n",
       "  <tbody>\n",
       "    <tr>\n",
       "      <th>0</th>\n",
       "      <td>Alpha_Inc</td>\n",
       "      <td>0.936170</td>\n",
       "      <td>0.758865</td>\n",
       "      <td>58.386525</td>\n",
       "      <td>0.176843</td>\n",
       "      <td>141</td>\n",
       "      <td>150414</td>\n",
       "    </tr>\n",
       "    <tr>\n",
       "      <th>1</th>\n",
       "      <td>Beta_Supplies</td>\n",
       "      <td>0.756410</td>\n",
       "      <td>0.705128</td>\n",
       "      <td>58.279423</td>\n",
       "      <td>0.212234</td>\n",
       "      <td>156</td>\n",
       "      <td>180516</td>\n",
       "    </tr>\n",
       "    <tr>\n",
       "      <th>2</th>\n",
       "      <td>Delta_Logistics</td>\n",
       "      <td>0.608187</td>\n",
       "      <td>0.701754</td>\n",
       "      <td>56.236023</td>\n",
       "      <td>0.213570</td>\n",
       "      <td>171</td>\n",
       "      <td>181652</td>\n",
       "    </tr>\n",
       "    <tr>\n",
       "      <th>3</th>\n",
       "      <td>Epsilon_Group</td>\n",
       "      <td>0.981928</td>\n",
       "      <td>0.722892</td>\n",
       "      <td>59.392711</td>\n",
       "      <td>0.211690</td>\n",
       "      <td>166</td>\n",
       "      <td>180053</td>\n",
       "    </tr>\n",
       "    <tr>\n",
       "      <th>4</th>\n",
       "      <td>Gamma_Co</td>\n",
       "      <td>0.860140</td>\n",
       "      <td>0.720280</td>\n",
       "      <td>59.348881</td>\n",
       "      <td>0.185663</td>\n",
       "      <td>143</td>\n",
       "      <td>157916</td>\n",
       "    </tr>\n",
       "  </tbody>\n",
       "</table>\n",
       "</div>"
      ],
      "text/plain": [
       "          Supplier  compliance_rate  delivery_rate  avg_price_efficiency  \\\n",
       "0        Alpha_Inc         0.936170       0.758865             58.386525   \n",
       "1    Beta_Supplies         0.756410       0.705128             58.279423   \n",
       "2  Delta_Logistics         0.608187       0.701754             56.236023   \n",
       "3    Epsilon_Group         0.981928       0.722892             59.392711   \n",
       "4         Gamma_Co         0.860140       0.720280             59.348881   \n",
       "\n",
       "   quantity_share  total_orders  total_quantity  \n",
       "0        0.176843           141          150414  \n",
       "1        0.212234           156          180516  \n",
       "2        0.213570           171          181652  \n",
       "3        0.211690           166          180053  \n",
       "4        0.185663           143          157916  "
      ]
     },
     "execution_count": 17,
     "metadata": {},
     "output_type": "execute_result"
    }
   ],
   "source": [
    "# Normalize quantity share\n",
    "agg[\"quantity_share\"] = agg[\"quantity_share\"] / agg[\"quantity_share\"].sum()\n",
    "agg.head()"
   ]
  },
  {
   "cell_type": "markdown",
   "id": "38ba87c1",
   "metadata": {},
   "source": [
    "## 🔄 Step 4: Feature Scaling\n",
    "Standardize the features to have **mean = 0** and **variance = 1** to ensure all KPIs are on the same scale.\n"
   ]
  },
  {
   "cell_type": "code",
   "execution_count": 18,
   "id": "dc2dfe4a",
   "metadata": {},
   "outputs": [],
   "source": [
    "# --- Normalize numeric features ---\n",
    "features = [\"compliance_rate\", \"delivery_rate\", \"avg_price_efficiency\", \"quantity_share\"]\n",
    "scaler = MinMaxScaler()\n",
    "X_scaled = scaler.fit_transform(agg[features])"
   ]
  },
  {
   "cell_type": "markdown",
   "id": "071b46d5",
   "metadata": {},
   "source": [
    "## 🔍 Step 5: Finding the Optimal `k`\n",
    "We test different values of `k` (2 to 6 or fewer if dataset is small)  \n",
    "using the **Silhouette Score** to choose the best number of clusters.\n"
   ]
  },
  {
   "cell_type": "code",
   "execution_count": 19,
   "id": "5604dd27",
   "metadata": {},
   "outputs": [
    {
     "name": "stdout",
     "output_type": "stream",
     "text": [
      "Cluster selection results:\n",
      " k=2: silhouette=0.3185, davies_bouldin=0.7771\n",
      " k=3: silhouette=0.1764, davies_bouldin=0.6280\n",
      " k=4: silhouette=0.0958, davies_bouldin=0.3166\n",
      "✅ Selected k = 2\n"
     ]
    }
   ],
   "source": [
    "# --- Find best number of clusters ---\n",
    "best_k = None\n",
    "best_score = -999\n",
    "scores = {}\n",
    "for k in K_SEARCH_RANGE:\n",
    "    km_tmp = KMeans(n_clusters=k, random_state=RANDOM_STATE, n_init=10)\n",
    "    labels_tmp = km_tmp.fit_predict(X_scaled)\n",
    "    sil = silhouette_score(X_scaled, labels_tmp)\n",
    "    db = davies_bouldin_score(X_scaled, labels_tmp)\n",
    "\n",
    "    scores[k] = {\"silhouette\": sil, \"davies_bouldin\": db}\n",
    "    if sil > best_score:\n",
    "        best_score = sil\n",
    "        best_k = k\n",
    "\n",
    "print(\"Cluster selection results:\")\n",
    "for k, val in scores.items():\n",
    "    print(f\" k={k}: silhouette={val['silhouette']:.4f}, davies_bouldin={val['davies_bouldin']:.4f}\")\n",
    "print(f\"✅ Selected k = {best_k}\")"
   ]
  },
  {
   "cell_type": "markdown",
   "id": "1e6a6c37",
   "metadata": {},
   "source": [
    "## 📊 Step 6: Train Final KMeans Model & Assign Clusters\n",
    "We train the final KMeans clustering model using the best value of `k`.  \n",
    "The resulting cluster labels are then added to the aggregated dataset.  \n"
   ]
  },
  {
   "cell_type": "code",
   "execution_count": null,
   "id": "73dc425a",
   "metadata": {},
   "outputs": [
    {
     "ename": "NameError",
     "evalue": "name 'X_reduced' is not defined",
     "output_type": "error",
     "traceback": [
      "\u001b[31m---------------------------------------------------------------------------\u001b[39m",
      "\u001b[31mNameError\u001b[39m                                 Traceback (most recent call last)",
      "\u001b[36mCell\u001b[39m\u001b[36m \u001b[39m\u001b[32mIn[20]\u001b[39m\u001b[32m, line 3\u001b[39m\n\u001b[32m      1\u001b[39m \u001b[38;5;66;03m# --- Fit final KMeans ---\u001b[39;00m\n\u001b[32m      2\u001b[39m final_kmeans = KMeans(n_clusters=best_k, random_state=RANDOM_STATE, n_init=\u001b[32m20\u001b[39m)\n\u001b[32m----> \u001b[39m\u001b[32m3\u001b[39m final_labels = final_kmeans.fit_predict(\u001b[43mX_reduced\u001b[49m)\n\u001b[32m      4\u001b[39m agg[\u001b[33m\"\u001b[39m\u001b[33mcluster\u001b[39m\u001b[33m\"\u001b[39m] = final_labels\n\u001b[32m      5\u001b[39m agg.head()\n",
      "\u001b[31mNameError\u001b[39m: name 'X_reduced' is not defined"
     ]
    }
   ],
   "source": [
    "# --- Fit final KMeans ---\n",
    "final_kmeans = KMeans(n_clusters=best_k, random_state=RANDOM_STATE, n_init=20)\n",
    "\n",
    "# This line trains the final KMeans model on the reduced dataset (X_reduced) \n",
    "# and assigns a cluster number (label) to each supplier/data point.\n",
    "final_labels = final_kmeans.fit_predict(X_reduced)\n",
    "\n",
    "# This line creates a new column \"cluster\" in your agg DataFrame \n",
    "# and stores the cluster label (from final_labels) for each supplier.\n",
    "agg[\"cluster\"] = final_labels\n",
    "\n",
    "# Shows the first 5 rows of agg with the new \"cluster\" column\n",
    "agg.head()\n"
   ]
  },
  {
   "cell_type": "markdown",
   "id": "ce2d1cc7",
   "metadata": {},
   "source": [
    "## 🏆 Step 7: Compute Composite Supplier Score & Ranking\n",
    "\n",
    "We calculate a **composite score** to evaluate suppliers by combining their KPIs with defined weights:\n",
    "\n",
    "* **Compliance Rate:** 40%\n",
    "* **Delivery Rate:** 30%\n",
    "* **Price Efficiency:** 20% *(inverted so lower prices are better)*\n",
    "* **Quantity Share:** 10% *(normalized using percentile ranking)*\n",
    "\n",
    "The final `supplier_score` reflects overall supplier performance.\n",
    "We then generate a `rank` column to order suppliers from **best to worst** and display the **Top 10 suppliers** for quick insights and decision-making."
   ]
  },
  {
   "cell_type": "code",
   "execution_count": null,
   "id": "d40075b3",
   "metadata": {},
   "outputs": [
    {
     "name": "stdout",
     "output_type": "stream",
     "text": [
      "\n",
      "Top 10 suppliers by rank:\n",
      "          Supplier  compliance_rate  delivery_rate  avg_price_efficiency  \\\n",
      "3    Epsilon_Group         0.981928       0.722892             59.392711   \n",
      "0        Alpha_Inc         0.936170       0.758865             58.386525   \n",
      "4         Gamma_Co         0.860140       0.720280             59.348881   \n",
      "1    Beta_Supplies         0.756410       0.705128             58.279423   \n",
      "2  Delta_Logistics         0.608187       0.701754             56.236023   \n",
      "\n",
      "   quantity_share  total_orders  total_quantity  supplier_score  rank  cluster  \n",
      "3        0.211690           166          180053        0.630808   1.0        1  \n",
      "0        0.176843           141          150414        0.623200   2.0        0  \n",
      "4        0.185663           143          157916        0.578854   3.0        0  \n",
      "1        0.212234           156          180516        0.539075   4.0        1  \n",
      "2        0.213570           171          181652        0.485788   5.0        1  \n"
     ]
    }
   ],
   "source": [
    "WEIGHTS = {\n",
    "    \"compliance_rate\": 0.40,\n",
    "    \"delivery_rate\": 0.30,\n",
    "    \"avg_price_efficiency\": 0.20,\n",
    "    \"quantity_share\": 0.10\n",
    "}\n",
    "\n",
    "agg[\"supplier_score\"] = (\n",
    "    WEIGHTS[\"compliance_rate\"] * agg[\"compliance_rate\"] +\n",
    "    WEIGHTS[\"delivery_rate\"] * agg[\"delivery_rate\"] +\n",
    "    WEIGHTS[\"avg_price_efficiency\"] * (1 - (agg[\"avg_price_efficiency\"] / agg[\"avg_price_efficiency\"].max())) +\n",
    "    WEIGHTS[\"quantity_share\"] * agg[\"quantity_share\"]\n",
    ")\n",
    "\n",
    "# --- Ranking ---\n",
    "agg[\"rank\"] = agg[\"supplier_score\"].rank(ascending=False)\n",
    "agg = agg.sort_values(\"rank\")\n",
    "\n",
    "# Move rank to 2nd column (right after the first column)\n",
    "#rank_col = agg.pop(\"rank\")   # remove rank temporarily\n",
    "# agg.insert(1, \"rank\", rank_col)  # insert at index 1 (second column)\n",
    "\n",
    "print(\"\\nTop 10 suppliers by rank:\")\n",
    "print(agg.head(10))"
   ]
  },
  {
   "cell_type": "markdown",
   "id": "b4b266cf",
   "metadata": {},
   "source": [
    "💾 Step 8: Save Model Artifacts & Results\n",
    "\n",
    "We save the final outputs for future analysis and Streamlit integration:\n",
    "- supplier_ranking.csv → Ranked supplier list with scores and clusters.\n",
    "- supplier_model.pkl → Final trained KMeans clustering model.\n",
    "- scaler.pkl → Scaler used for feature normalization. \n",
    "- The step also prints the optimal number of clusters (k) and the Top 10 ranked suppliers for quick verification."
   ]
  },
  {
   "cell_type": "code",
   "execution_count": null,
   "id": "45a7b1a7",
   "metadata": {},
   "outputs": [
    {
     "name": "stdout",
     "output_type": "stream",
     "text": [
      "\n",
      "✅ Files saved successfully:\n",
      " - supplier_ranking.csv\n",
      " - supplier_model.pkl\n",
      " - scaler.pkl\n",
      "\n",
      "Best k (clusters): 2\n",
      "Top 10 suppliers:\n",
      "          Supplier  compliance_rate  delivery_rate  avg_price_efficiency  \\\n",
      "3    Epsilon_Group         0.981928       0.722892             59.392711   \n",
      "0        Alpha_Inc         0.936170       0.758865             58.386525   \n",
      "4         Gamma_Co         0.860140       0.720280             59.348881   \n",
      "1    Beta_Supplies         0.756410       0.705128             58.279423   \n",
      "2  Delta_Logistics         0.608187       0.701754             56.236023   \n",
      "\n",
      "   quantity_share  total_orders  total_quantity  supplier_score  rank  cluster  \n",
      "3        0.211690           166          180053        0.630808   1.0        1  \n",
      "0        0.176843           141          150414        0.623200   2.0        0  \n",
      "4        0.185663           143          157916        0.578854   3.0        0  \n",
      "1        0.212234           156          180516        0.539075   4.0        1  \n",
      "2        0.213570           171          181652        0.485788   5.0        1  \n"
     ]
    }
   ],
   "source": [
    "# --- Save Outputs for Streamlit ---\n",
    "agg.to_csv(\"supplier_ranking.csv\", index=False)\n",
    "joblib.dump(final_kmeans, \"supplier_model.pkl\")\n",
    "joblib.dump(scaler, \"scaler.pkl\") \n",
    "\n",
    "# Print confirmation and key insights\n",
    "print(\"\\n✅ Files saved successfully:\")\n",
    "print(\" - supplier_ranking.csv\")\n",
    "print(\" - supplier_model.pkl\")\n",
    "print(\" - scaler.pkl\")\n",
    "\n",
    "print(f\"\\nBest k (clusters): {best_k}\")\n",
    "print(f\"Top 10 suppliers:\\n{agg.head(10)}\")\n"
   ]
  },
  {
   "cell_type": "markdown",
   "id": "e9f70d1a",
   "metadata": {},
   "source": [
    "## 🚀 Next Steps\n",
    "1. Use the `supplier_model.pkl` to score **new suppliers**.\n",
    "2. Visualize clusters with **Plotly** or **Matplotlib**.\n",
    "3. Build a **Streamlit dashboard** to interactively explore results.\n"
   ]
  }
 ],
 "metadata": {
  "kernelspec": {
   "display_name": "Python 3",
   "language": "python",
   "name": "python3"
  },
  "language_info": {
   "codemirror_mode": {
    "name": "ipython",
    "version": 3
   },
   "file_extension": ".py",
   "mimetype": "text/x-python",
   "name": "python",
   "nbconvert_exporter": "python",
   "pygments_lexer": "ipython3",
   "version": "3.12.5"
  }
 },
 "nbformat": 4,
 "nbformat_minor": 5
}
